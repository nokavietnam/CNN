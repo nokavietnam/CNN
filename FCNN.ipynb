{
  "nbformat": 4,
  "nbformat_minor": 0,
  "metadata": {
    "colab": {
      "provenance": [],
      "include_colab_link": true
    },
    "kernelspec": {
      "name": "python3",
      "display_name": "Python 3"
    },
    "language_info": {
      "name": "python"
    }
  },
  "cells": [
    {
      "cell_type": "markdown",
      "metadata": {
        "id": "view-in-github",
        "colab_type": "text"
      },
      "source": [
        "<a href=\"https://colab.research.google.com/github/nokavietnam/CNN/blob/main/FCNN.ipynb\" target=\"_parent\"><img src=\"https://colab.research.google.com/assets/colab-badge.svg\" alt=\"Open In Colab\"/></a>"
      ]
    },
    {
      "cell_type": "code",
      "execution_count": null,
      "metadata": {
        "id": "id4qH2bSdA67"
      },
      "outputs": [],
      "source": []
    },
    {
      "cell_type": "code",
      "source": [
        "from keras.layers import Input, Dense, Conv2D, AveragePooling2D, Flatten\n",
        "from keras.models import load_model, Model\n",
        "import tensorflow as tf\n",
        "import tensorflow_datasets as tfds\n",
        "import keras"
      ],
      "metadata": {
        "id": "UxhUqpZCduF3"
      },
      "execution_count": null,
      "outputs": []
    },
    {
      "cell_type": "code",
      "source": [
        "# Basic struture\n",
        "class CNN:\n",
        "  # Constructor\n",
        "  def __init__(self):\n",
        "    self.model = None\n",
        "\n",
        "  # Implement architecture of the model\n",
        "  def build(self, input_dim):\n",
        "    return None\n",
        "\n",
        "  # Train the defined model with training and validation data\n",
        "  def train(self):\n",
        "    return None\n",
        "\n",
        "  # Save the trained model to file\n",
        "  def save(self, model_path):\n",
        "    return None\n",
        "\n",
        "  # Load pretrained model from file\n",
        "  def load(self):\n",
        "    return None\n",
        "\n",
        "  # Visualize your model\n",
        "  def sumary(self):\n",
        "    return None\n",
        "\n",
        "  # Apply your model with new input data\n",
        "  def pprdict(self):\n",
        "    return None\n"
      ],
      "metadata": {
        "id": "J3sticbfeAOI"
      },
      "execution_count": null,
      "outputs": []
    },
    {
      "cell_type": "code",
      "source": [
        "# Load dataset nyu_depth_v2\n",
        "# train 47,584\n",
        "# validation 654\n",
        "# https://www.tensorflow.org/datasets/catalog/lvis\n",
        "ds_train, ds_val, ds_info = tfds.load('lvis', split=['train', 'validation'], with_info=True)\n",
        "fig = tfds.show_examples(ds_train, ds_info)\n",
        "\n"
      ],
      "metadata": {
        "id": "-2Zz8cMhjJdc"
      },
      "execution_count": null,
      "outputs": []
    },
    {
      "cell_type": "code",
      "source": [
        "import tensorflow as tf\n",
        "from tensorflow import keras\n",
        "from keras import Sequential, Input\n",
        "from keras.layers import Dense, Input, Conv2D, MaxPooling2D"
      ],
      "metadata": {
        "id": "qQ9eMrtmORBk"
      },
      "execution_count": 4,
      "outputs": []
    },
    {
      "cell_type": "code",
      "source": [
        "model = Sequential(name='hell_sequential')\n",
        "model.add(Input(shape=(250, 250, 3), name='input'))\n",
        "\n",
        "model.add(Conv2D(32, 3, activation='relu', name='conv2d_1'))\n",
        "model.add(Conv2D(32, 5, activation='relu', strides=2, name='conv2d_2'))\n",
        "model.add(MaxPooling2D(3, name='max_pooling_1'))\n",
        "\n",
        "model.add(Dense(10, name='dense_final'))\n",
        "model.summary()"
      ],
      "metadata": {
        "id": "uAP2zRZGPOZj"
      },
      "execution_count": null,
      "outputs": []
    },
    {
      "cell_type": "code",
      "source": [
        "from keras.layers.core import Lambda, Dropout\n",
        "from keras.layers import Conv2D, MaxPooling2D\n",
        "from keras.models import Model\n",
        "\n",
        "IMG_HEIGHT, IMG_WIDTH, IMG_CHANNELS = (240, 240, 3)\n",
        "\n",
        "input = Input((IMG_HEIGHT, IMG_WIDTH, IMG_CHANNELS), name='input')\n",
        "s = Lambda(lambda x: x / 255) (input)\n",
        "\n",
        "c1 = Conv2D(16, (3, 3), activation='relu', padding='same')(s)\n",
        "c1 = Dropout(0.1)(c1)\n",
        "c1 = Conv2D(16, (3, 3), activation='relu', padding='same')(c1)\n",
        "p1 = MaxPooling2D((2, 2))(c1)\n",
        "\n",
        "output = Conv2D(1, (1, 1), activation='sigmoid')(p1)\n",
        "\n",
        "model = Model(inputs=[input], outputs=[output])\n",
        "model.compile(optimizer='adam', loss='binary_crossentropy')\n",
        "model.summary()"
      ],
      "metadata": {
        "id": "Ok2sZ0dHTepx",
        "outputId": "f7978e03-7d3f-4bd2-a25e-ce2ea864312e",
        "colab": {
          "base_uri": "https://localhost:8080/"
        }
      },
      "execution_count": 17,
      "outputs": [
        {
          "output_type": "stream",
          "name": "stdout",
          "text": [
            "Model: \"model_1\"\n",
            "_________________________________________________________________\n",
            " Layer (type)                Output Shape              Param #   \n",
            "=================================================================\n",
            " input (InputLayer)          [(None, 240, 240, 3)]     0         \n",
            "                                                                 \n",
            " lambda_3 (Lambda)           (None, 240, 240, 3)       0         \n",
            "                                                                 \n",
            " conv2d_4 (Conv2D)           (None, 240, 240, 16)      448       \n",
            "                                                                 \n",
            " dropout_2 (Dropout)         (None, 240, 240, 16)      0         \n",
            "                                                                 \n",
            " conv2d_5 (Conv2D)           (None, 240, 240, 16)      2320      \n",
            "                                                                 \n",
            " max_pooling2d_2 (MaxPooling  (None, 120, 120, 16)     0         \n",
            " 2D)                                                             \n",
            "                                                                 \n",
            " conv2d_6 (Conv2D)           (None, 120, 120, 1)       17        \n",
            "                                                                 \n",
            "=================================================================\n",
            "Total params: 2,785\n",
            "Trainable params: 2,785\n",
            "Non-trainable params: 0\n",
            "_________________________________________________________________\n"
          ]
        }
      ]
    }
  ]
}