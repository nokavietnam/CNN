{
  "nbformat": 4,
  "nbformat_minor": 0,
  "metadata": {
    "colab": {
      "provenance": [],
      "authorship_tag": "ABX9TyPS3xCkELccStMNhp+i0Bz+",
      "include_colab_link": true
    },
    "kernelspec": {
      "name": "python3",
      "display_name": "Python 3"
    },
    "language_info": {
      "name": "python"
    }
  },
  "cells": [
    {
      "cell_type": "markdown",
      "metadata": {
        "id": "view-in-github",
        "colab_type": "text"
      },
      "source": [
        "<a href=\"https://colab.research.google.com/github/nokavietnam/CNN/blob/main/FCNN.ipynb\" target=\"_parent\"><img src=\"https://colab.research.google.com/assets/colab-badge.svg\" alt=\"Open In Colab\"/></a>"
      ]
    },
    {
      "cell_type": "code",
      "execution_count": null,
      "metadata": {
        "id": "id4qH2bSdA67"
      },
      "outputs": [],
      "source": []
    },
    {
      "cell_type": "code",
      "source": [
        "from keras.layers import Input, Dense, Conv2D, AveragePooling2D, Flatten\n",
        "from keras.models import load_model, Model\n",
        "import tensorflow as tf\n",
        "import keras"
      ],
      "metadata": {
        "id": "UxhUqpZCduF3"
      },
      "execution_count": null,
      "outputs": []
    },
    {
      "cell_type": "code",
      "source": [
        "# Basic struture\n",
        "class CNN:\n",
        "  # Constructor\n",
        "  def __init__(self):\n",
        "    self.model = None\n",
        "\n",
        "  # Implement architecture of the model\n",
        "  def build(self, input_dim):\n",
        "    return None\n",
        "\n",
        "  # Train the defined model with training and validation data\n",
        "  def train(self):\n",
        "    return None\n",
        "\n",
        "  # Save the trained model to file\n",
        "  def save(self, model_path):\n",
        "    return None\n",
        "\n",
        "  # Load pretrained model from file\n",
        "  def load(self):\n",
        "    return None\n",
        "\n",
        "  # Visualize your model\n",
        "  def sumary(self):\n",
        "    return None\n",
        "\n",
        "  # Apply your model with new input data\n",
        "  def pprdict(self):\n",
        "    return None\n"
      ],
      "metadata": {
        "id": "J3sticbfeAOI"
      },
      "execution_count": null,
      "outputs": []
    }
  ]
}